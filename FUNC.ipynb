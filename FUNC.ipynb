{
 "cells": [
  {
   "cell_type": "markdown",
   "metadata": {},
   "source": [
    "<a id=toc></a>\n",
    "<h2>TOC</h2>\n",
    "\n",
    "* [Papers and other things that it might be helpful to read & understand](#papers)\n",
    "* [My terminology/definitions](#defs)\n",
    "* [Possible directions](#directions)\n",
    "* [Algebraic structure of union-closed families](#structure)\n",
    "* [Strengthening the notion of a separating family](#non-redundancy)\n",
    "* [Uniqueness of non-redundant families](#uniqueness)\n",
    "* [Examples of union-closed families](#examples)\n",
    "* [Properties a counterexample needs](#counterexample)\n",
    "* [List of conjectures](#conjectures)\n",
    "* [Results](#results)\n",
    "* [Meta to-do](#todo)\n",
    "\n"
   ]
  },
  {
   "cell_type": "markdown",
   "metadata": {},
   "source": [
    "---\n",
    "<a id=papers></a>\n",
    "<h2>Papers / Blogs / MathOverflow Questions</h2>\n",
    "\n",
    "[Top](#toc)\n"
   ]
  },
  {
   "cell_type": "markdown",
   "metadata": {},
   "source": [
    "| Title | Authors | Link | Read? | Really absorbed? | Notes |\n",
    "|-------|---------|------|-------|------------------|-------|\n",
    "| The journey of the union-closed set conjecture | Henning Bruhn & Oliver Schaudt | http://www.zaik.uni-koeln.de/~schaudt/UCSurvey.pdf | Mostly! | Not all of it, high priority! | |\n",
    "| On the Frankl's Union-closed Conjecture | Acquaah Peter | https://arxiv.org/abs/1805.09695#annotations:zoYv-glaEemSc9_jqINdqA | Y | The correct parts, I think? | Likely not correct, but has the interesting observation that many families with $n$ sets contain (sometimes very structurally different) \"reduced\" $n$-set families, each set inside the corresponding set of the original. So a minimal counterexample is \"reduced\". |\n",
    "| Frankl’s union-closed conjecture — a possible Polymath project? | Tim Gowers | https://gowers.wordpress.com/2016/01/21/frankls-union-closed-conjecture-a-possible-polymath-project/ | Y | Not really the probabilistic parts. Which is most of it? | |\n",
    "| The union-closed sets conjecture for small families | Jens Maßberg | https://arxiv.org/pdf/1508.05718.pdf | N | N | Proves FUNC for \"small\" meaning small $n$ relative to the number of elements in the universe $m$. |\n",
    "| Families implying the Frankl conjecture | Theresa Vaughn | https://core.ac.uk/download/pdf/81939335.pdf | N | N | Probably the right place to look to understand the FC-family strategy |\n",
    "| Cutting planes for union-closed families | Jonad Pulaj | https://depositonce.tu-berlin.de/bitstream/11303/7258/7/pulaj_jonad.pdf | N | N | 2017; Good place for recent results |\n",
    "| Union-closed families | Bjorn Poonen | https://core.ac.uk/download/pdf/81930624.pdf | N | N | Presents FC-families |\n",
    "| A stronger version of the union-closed sets conjecture | Cui & Hu | https://arxiv.org/pdf/1711.04276.pdf | Y | Y | Unilluminating proof (by considering all possibilities) of S-Frankl for small universes <= 5 and large minimal sets relative to the universe size (m, m-1, m-2) |\n",
    "| Minimal weight in union-closed families | Victor Falgas--Ravry | https://arxiv.org/abs/1101.2589 | N | N | |\n",
    "| Bunch of things to add here... | - | - | - | - | - |"
   ]
  },
  {
   "cell_type": "markdown",
   "metadata": {},
   "source": [
    "___\n",
    "<a id=defs></a>\n",
    "<h2>Terminology/definitions/notation I'm using</h2>\n",
    "\n",
    "[Top](#toc)\n",
    "\n",
    "**FUNC** (after Gowers): The Frankl union-closed sets conjecture (in any family $\\mathcal{F}$ of $n$ sets that's\n",
    "1) closed under unions and\n",
    "2) not just the empty set,\n",
    "there's an element that's in $\\geq n/2$ sets.)\n",
    "\n",
    "Since it's \"harder\" when these families include $\\emptyset$ - any counterexample without $\\emptyset \\in \\mathcal{F}$ is still a counterexample when you add in $\\emptyset$, and if the conjecture is true for families that include $\\emptyset$, it's true for all of them - we'll assume these families always include the empty set unless otherwise noted. It makes some of the lattice and algebraic ideas cleaner.\n",
    "\n",
    "**universe** (after Bruhn & Schaudt): Everything that appears in some set in the family $\\mathcal{F}$. Only makes sense to count the elements that actually appear. I'll write them as digits when there's $\\leq 10$ of them, and $a_{i}$ otherwise, sometimes as $x,y,z$ if I'm talking about arbitrary ones. Sometimes **ground set**.\n",
    "\n",
    "**element** (after Bruhn & Schaudt): Members of the universe/ground set.\n",
    "\n",
    "**abundant element** (after Bruhn & Schaudt): An element that is in $\\geq n/2$ of the sets. FUNC says every family has an abundant element.\n",
    "\n",
    "**is Frankl** (me): Sometimes it gets tiring to type \"has an abundant element\", so I'll say $\\mathcal{F}$ is Frankl if it has an abundant element. (This is not awesome terminology - the name doesn't suggest what it means, and could reasonably be used to mean \"is union-closed and contains more than just $\\emptyset$\" - and so I'll only use this where I think formality is not that helpful.)\n",
    "\n",
    "**n, m** (after Bruhn & Schaudt): This can get ambiguous so I won't use it without extra clarification, but when both $n$ and $m$ are in use, $n$ will be used for the number of sets in the family and $m$ will be used for the number of elements in the universe.\n",
    "\n",
    "An **isomorphism** $\\phi$ between two union-closed families $\\mathcal{F}, \\mathcal{G}$ (me) is what you'd expect: $\\phi: \\mathcal{F} \\rightarrow \\mathcal{G}$ is a bijection that preserves the union operation: for $A,B \\in \\mathcal{F}, \\phi(A \\cup B) = \\phi(A) \\cup \\phi(B)$\n",
    "\n",
    "**separating** (after Bruhn and Schaudt): $\\mathcal{F}$ is separating if, for every distinct pair of elements, there exists a set in the family that contains exactly one of the pair. Two elements $x,y$ are separating if there's a set that contains exactly one of them.\n",
    "\n",
    "Note that this doesn't mean that you can find sets containing exactly one of either of the pair. $\\{\\emptyset, \\{1\\}, \\{12\\}\\}$ is separating even though 2 never shows up without 1 around.\n",
    "\n",
    "**non-redundant** (me): A strengthening of separating. An element $x$ in the universe of $\\mathcal{F}$ is **redundant** if the map $\\mathcal{F} \\mapsto \\mathcal{F'}$ that removes $x$ from every set in $\\mathcal{F}$ in which it appears is an isomorphism. A family $\\mathcal{F}$ is **non-redundant** if there are no redundant elements.\n",
    "\n",
    "**independent** (me): A different strengthening of separating. Two elements $x,y$ in the universe of $\\mathcal{F}$ are independent if there exists a set in $\\mathcal{F}$ that contain $x$ and not $y$ and a set that contains $y$ and not $x$. The whole family $\\mathcal{F}$ is independent if there are such sets for every pair. $x$ is **dependent** on $y$ if whenever $x$ appears in a set, so does $y$.\n",
    "\n",
    "**reducible** (after Acquaah): If for union-closed family $\\mathcal{F} = \\bigcup F_{i}$ there's another family $\\mathcal{G} = \\bigcup G_{i}$ with the same number of sets, and each $G_{i} \\subseteq F_{i}$, and not every $G_{i} = F_{i}$, then we say $\\mathcal{F}$ is **reducible** to $\\mathcal{G}$.\n",
    "\n",
    "$\\mathcal{F}$ is **irreducible** (Acquaah) if no such $\\mathcal{G}$ exists.\n",
    "\n",
    "**basis**: A set $A$ is in the basis of $\\mathcal{F}$ if you can't build it out of any other sets in the family: $B \\cup C = A$ only if $B=C=A$.\n",
    "\n",
    "Some writers are drawn to using \"prime\" here, but I don't think that's helpful - most of the powerful features and difficulties of prime-ness don't seem to hold. You can build a family where a set that looks like anything is a basis set. And it's not very deep to tell if a set is in the basis. The strong structure comes in when looking at what else can be in the basis at the same time, and when different combinations of basis elements give identical results, so basis seems like the right concept.\n",
    "\n",
    "**"
   ]
  },
  {
   "cell_type": "markdown",
   "metadata": {},
   "source": [
    "___\n",
    "<a id=\"directions\"></a>\n",
    "<h2>Possible directions</h2>\n",
    "\n",
    "[Top](#toc)"
   ]
  },
  {
   "cell_type": "markdown",
   "metadata": {},
   "source": [
    "\"Likely fruitfulness\", rated 1-10, is whether I might personally get to some interesting result - doesn't matter if it's likely to work for someone else. Also not really rating if I'm likely to get a proof of FUNC out of it, since if I'm being honest with myself, I should really rate that close to 0.\n",
    "\n",
    "### Study the \"algebra\" of these families ###\n",
    "\n",
    "How do you build bigger ones from smaller ones, or smaller ones out of bigger ones, in ways that their properties (in particular, the frequency of their elements) are related?\n",
    "\n",
    "I'm interested in this direction because it seems most likely to yield a satisfying understanding, because I think it plays to my mathematical strengths, and because it might lead to an understanding of lattices that's useful (to me) outside of the bounds of this problem. I think I've already encountered some results that I haven't found in the survey papers (maybe because they're obvious to everyone else).\n",
    "\n",
    "Not a lot of the thinking about the problem I've run into seems to take this direction. That could be because it's obviously bad in a way my mathematical immaturity doesn't let me identify, but if that's the case maybe really running this down will help me develop that maturity? A hint this is an unsound direction is that it smells a little like classifying groups, a monster project, except it's lattices, of which there are a ton more and which have less structure. That's not completely convincing to me, though, the characterization doesn't have to be complete to be useful, it just has to say something interesting about abundant elements or about the structure of a counterexample.\n",
    "\n",
    "Also, if the lower bound on the frequency of the most frequent element really is $n/2$, it seems like that has reasonable odds of being something that pops out of the fundamental structure of the problem, like the power set or the duality between the union-closed version and the intersection-closed version.\n",
    "\n",
    "**Likely fruitfulness**: 8\n",
    "\n",
    "**Next steps**: Formalize results and conjectures so far.\n",
    "\n",
    "### Patch Peter Acquaah's approach ###\n",
    "\n",
    "In particular, look at a minimum-sized set that intersects every set in $\\mathcal{F}$. We can say some interesting things about it (like\n",
    "\n",
    "### Use concepts from probabilistic combinatorics ###\n",
    "\n",
    "(From [Gowers](https://gowers.wordpress.com/2016/01/21/frankls-union-closed-conjecture-a-possible-polymath-project/))\n",
    "\n",
    "Is there a probability distribution we can assign to the different elements so that the expected number of sets containing a random element is $\\geq n/2$? Is there some strengthening of that claim that doesn't trivially follow from FUNC? (I don't know probability well enough to really understand what that means.)\n",
    "\n",
    "I don't understand the tools of probabilistic combinatorics, and if the problem didn't yield to a Fields medalist using them, I should probably try something else first.\n",
    "\n",
    "**Likely fruitfulness**: 2\n",
    "\n",
    "**Next steps in this direction**: Maybe work through [this text?](https://www.amazon.com/Probabilistic-Algorithmic-Mathematics-Algorithms-Combinatorics/dp/3540646221/ref=asc_df_3540646221/?tag=hyprod-20&linkCode=df0&hvadid=312168166316&hvpos=1o1&hvnetw=g&hvrand=10060092024104439639&hvpone=&hvptwo=&hvqmt=&hvdev=c&hvdvcmdl=&hvlocint=&hvlocphy=9001982&hvtargid=pla-553270629739&psc=1)\n",
    "\n",
    "### Improve the lower bound on the minimum frequency of the most abundant element ###\n",
    "\n",
    "Not something I currently have a sense of how to do, but digging into the papers that yielded the existing bounds might provide some clues.\n",
    "\n",
    "**Likely fruitfulness**: 3\n",
    "\n",
    "**Next steps in this direction**: A careful reading of the Knill and Wojcik papers that establish the $(n-1)/log_2(n)$ and $2.4n/log_2(n)$ bounds.\n",
    "\n",
    "### Improve Jens Massberg's bounds on the minimum density of sets (number of sets relative to number of elements) ###\n",
    "\n",
    "See also [this comment](https://gowers.wordpress.com/2016/01/21/frankls-union-closed-conjecture-a-possible-polymath-project/#comment-153628) on the Polymath project - improving the nature of the bound could help more than a simple increase to the constants.\n",
    "\n",
    "**Likely fruitfulness**: 3\n",
    "\n",
    "**Next steps**: Thoroughly understand the Massberg paper.\n",
    "\n",
    "### Study reducibility ###\n",
    "Since a minimal counterexample is not reducible, try to relate reducibility to other concepts and identify when a family is reducible.\n",
    "\n",
    "**Likely fruitfulness**: 5 (don't expect this to result in a proof, but reasonably likely I could find something interesting about reducibility)\n",
    "\n",
    "**Next steps**: Computer search for some relevant examples.\n",
    "\n",
    "### Weighted strengthenings ###\n",
    "\n",
    "!!!!\n",
    "\n",
    "### Find super loose bounds on the number of sets of size $s$ that are needed to get an abundant element, take the product of the minimal counterexample with itself repeatedly to show that it can't contain any sets of that size ###\n",
    "\n"
   ]
  },
  {
   "cell_type": "markdown",
   "metadata": {},
   "source": [
    "### Given a multiplication table for $\\mathcal{F}$, figure out an algorithm to turn it into a minimal (separating) representation of $\\mathcal{F}$ ###\n",
    "For example, if you know there $\\mathcal{F}$ has 5 sets, one of which is maximal and one of which is minimal, and the union of any of the other three is the maximal set, $\\mathcal{F}$ is \"isomorphic\" (in some way we can probably define more precisely, and where morphisms preserve abundant elements) to {$\\emptyset$, {12}, {23}, {31}, {123}}\n",
    "\n",
    "This might help to illuminate the structure of these families. If we forget about the ground set, is FUNC still saying about the structure of the family?\n",
    "\n",
    "**Likely fruitfulness**: 8\n",
    "\n",
    "**Next steps**: Not sure. Seems like this relates closely to understanding the algebraic structure of these families?"
   ]
  },
  {
   "cell_type": "markdown",
   "metadata": {},
   "source": [
    "___\n",
    "<a id=structure></a>\n",
    "## \"Algebraic\" structure of union-closed families ##\n",
    "\n",
    "[Top](#toc)"
   ]
  },
  {
   "cell_type": "markdown",
   "metadata": {},
   "source": [
    "### Basic structure ###\n",
    "If you're looking at a collection of objects and a binary operation on them, how can you tell if you're looking at unions in a union-closed family of sets? What's the necessary and sufficient structure?\n",
    "\n",
    "- Commutativity: $A \\cup B = B \\cup A$\n",
    "- Closure: $A \\cup B$ is still in the collection\n",
    "- Identity: The original framing of FUNC doesn't require an identity, but we might as well assume we have one by adding $\\emptyset$ to the family if it's not already there\n",
    "- Reflexive: $A \\cup A = A$\n",
    "- Associative: $(A \\cup B) \\cup C = A \\cup (B \\cup C)$\n",
    "- Transitive: If $A \\ cup B = B   !!!!! more goes here !!!!!\n",
    "\n",
    "This actually seems like a ton of structure!\n",
    "\n",
    "### Product ###\n",
    "$A \\times B$, the product of $A$ and $B$: rename the universe of $B$ if necessary so that it doesn't intersect the universe of $A$. $A \\times B$ is then the union-closure of $A \\cup B$.\n",
    "\n",
    "Thinking of the algebra alone, without reference to the universe of elements, $A \\times B$ is the usual sort of product - it's got the same structure as ordered pairs of a set in A and a set in B, closed under component-wise unions.\n",
    "\n",
    "A family is a (non-trivial) product of other families iff there's a (non-trivial) partition of its basis sets such that no elements of the universe are shared between the partitions.\n",
    "\n",
    "Products are commutative.\n",
    "\n",
    "If one of the families in a product has an abundant element, it's abundant in the product. A product of two FUNC counter-example families would also be a counter-example.\n",
    "\n",
    "### Concatenation ###\n",
    "$A ^\\frown B$, A concatenated with B.\n",
    "\n",
    "!!!! Products, concatenation, mirror, mirror products, basis sets, presentations/relations, quotients, filters !!!!\n",
    "\n",
    "!!!! If either family in a product has an abundant element, so does the product; if two families are counterexamples, so is the product. Use of this in generating arbitrary large counterexamples if any exist !!!!\n",
    "\n",
    "Covering system - look at the (union-closed! but not null-inclusive) family of sets that has non-empty intersection with every set in $\\mathcal{F}$. This has some initially promising complementary characteristics to $\\mathcal{F}$: it always includes the universe set, and if it's the universe set alone, $\\mathcal{F}$ is the power set; if it includes an element one smaller than the universe of $\\mathcal{F}$, then \n",
    "\n",
    "Is every family of union-closed sets (minus null) a covering system for some other family of sets? Does the covering system define the set up to separability?\n",
    "\n",
    "Is every abundant element in the infimum of this covering system? Are there any non-abundant elements in there?"
   ]
  },
  {
   "cell_type": "markdown",
   "metadata": {},
   "source": [
    "___\n",
    "<a id=non-redundancy></a>\n",
    "## Strengthening the notion of a separating family ##\n",
    "\n",
    "[top](#toc)"
   ]
  },
  {
   "cell_type": "markdown",
   "metadata": {},
   "source": [
    "A family $\\mathcal{F}$ is **separating** (Bruhn & Schaudt) if for every pair of elements in its universe $x,y$, we can find a set in $\\mathcal{F}$ that contains exactly one of the pair.\n",
    "\n",
    "The aim here is to only concern ourselves with a minimal set of elements that affect the question of whether there's an abundant element.\n",
    "\n",
    "But the notion of separation isn't enough to show that each element of the universe of $\\mathcal{F}$ is affecting $\\mathcal{F}$'s structure meaningfully.\n",
    "\n",
    "For example, this family:"
   ]
  },
  {
   "cell_type": "markdown",
   "metadata": {},
   "source": [
    "![](Pictures/Hasse_P2b.png)"
   ]
  },
  {
   "cell_type": "markdown",
   "metadata": {},
   "source": [
    "It's separating: Looking at pair (1,2), 1 is contained in 13 and 2 is not. For (1,3), 3 is contained in 23 and 1 isn't. And for (2,3), 3 is contained in 13 and 2 is not.\n",
    "\n",
    "But the 3 isn't really pulling its weight and it would be nice if we could refer questions about the above family to this family instead:"
   ]
  },
  {
   "cell_type": "markdown",
   "metadata": {},
   "source": [
    "![](Pictures/Hasse_P2.png)"
   ]
  },
  {
   "cell_type": "markdown",
   "metadata": {},
   "source": [
    "It's not always quite as obvious by inspection that an element isn't contributing to the structure of the family. In this example:"
   ]
  },
  {
   "cell_type": "markdown",
   "metadata": {},
   "source": [
    "![](Pictures/Hasse_P3_Redundant.png)"
   ]
  },
  {
   "cell_type": "markdown",
   "metadata": {},
   "source": [
    "...we have a separating family. But the elements 1, 3, and 5 can be removed from every set without affecting the structure of the family. 2, 4, and 6 can't."
   ]
  },
  {
   "cell_type": "markdown",
   "metadata": {},
   "source": [
    "So we introduce the notion of a redundant element. An element is redundant if we can forget about it without affecting the algebraic structure of the family. Formally, $x$ in $\\mathcal{F}$ is **redundant** if the action $\\phi: \\mathcal{F} \\rightarrow \\mathcal{F'}$ given by $\\phi(A) = A \\setminus \\{x\\}$ is an isomorphism with respect to unions. We call $\\mathcal{F}$ **redundant** if it has any redundant elements, and **non-redundant** otherwise.\n",
    "\n",
    "If there's a counter-example to FUNC that has a redundant element, we can take it out and still have a counter-example. Similarly, if we simplify a family by taking out redundant elements and the simplified family has an abundant element, we can re-introduce the redundant elements and the abundant element is still abundant. So we can restrict our search for a counterexample or proof to non-redundant families.\n",
    "\n",
    "Non-redundant is a strengthening of separating: if $x,y$ aren't separating in $\\mathcal{F}$, then they're redundant."
   ]
  },
  {
   "cell_type": "markdown",
   "metadata": {},
   "source": [
    "Luckily, we don't have to compare the whole table of unions for $\\mathcal{F}$ to that of $\\mathcal{F'}$ to determine if an element is redundant:"
   ]
  },
  {
   "cell_type": "markdown",
   "metadata": {},
   "source": [
    "### Lemma: Criteria for redundancy ###\n",
    "An element $x$ in the universe of $\\mathcal{F}$ is redundant if and only if there is no pair of sets in $\\mathcal{F}$ that differ only by whether they include $x$. \n",
    "\n",
    "**Corollary:** $\\mathcal{F}$ is non-redundant if and only if, for every element $x$ in its universe, there exists a pair of sets in $\\mathcal{F}$ that differ only by whether they include $x$.\n",
    "\n",
    "**Proof**: First, given a redundant element $x$ in $\\mathcal{F}$, we'll show there can't be a pair of sets in $\\mathcal{F}$ that differ only by whether they include $x$.\n",
    "\n",
    "If $x$ is redundant, then there's an isomorphism $\\phi$ that takes $x$ out of each set in $\\mathcal{F}$. So there can't be a pair of sets that differ only by whether they include $x$, or $\\phi$ would take them to the same set and wouldn't be 1-1.\n",
    "\n",
    "Next, if there is no pair of sets in $\\mathcal{F}$ that differ only by whether they include $x$, we'll show that $\\phi$ that removes $x$ from all sets in $\\mathcal{F}$ is an isomorphism.\n",
    "\n",
    "We know $\\phi$ is 1-1 - if two distinct sets in $\\mathcal{F}$ go to the same set in the image of $\\phi$, they must differ only by $x$ and we know there aren't any such pairs. So we just need to show that $\\phi$ is a homomorphism, that the action of $\\phi$ preserves unions.\n",
    "\n",
    "It does because $(A \\cup B) \\setminus \\{x\\} = (A \\setminus \\{x\\}) \\cup (B \\setminus \\{x\\})$."
   ]
  },
  {
   "cell_type": "markdown",
   "metadata": {},
   "source": [
    "---\n",
    "<a id=uniqueness></a>\n",
    "## Uniqueness of non-redundant families ##\n",
    "[top](#toc)"
   ]
  },
  {
   "cell_type": "markdown",
   "metadata": {},
   "source": [
    "If we want to use the algebraic properties of families to investigate the presence of abundant elements, it would be helpful if families with the same algebraic structure had the same element frequency.\n",
    "\n",
    "That's not the case in general. These two families are isomorphic, but 3 is abundant in the first family and not abundant in the second:"
   ]
  },
  {
   "cell_type": "markdown",
   "metadata": {},
   "source": [
    "![](Pictures/Hasse_C2_TwoRedundantModels.png)"
   ]
  },
  {
   "cell_type": "markdown",
   "metadata": {},
   "source": [
    "Thankfully, it is the case for non-redundant families! An isomorphism between two non-redundant families is just a renaming of the elements in the universe:"
   ]
  },
  {
   "cell_type": "markdown",
   "metadata": {},
   "source": [
    "### Lemma: Non-redundant families are unique up to permutations of their universe ###\n",
    "\n",
    "**Preliminary:** $\\phi: \\mathcal{F} \\rightarrow \\mathcal{G}$, a function between two union-closed families $\\mathcal{F}$ and $\\mathcal{G}$, is a **renaming** if it's given by a bijection between the universe of $\\mathcal{F}$ and the universe of $\\mathcal{G}$. Renamings are isomorphisms. (Renamings don't necessarily have to be between non-redundant families.)\n",
    "\n",
    "**Lemma:** Any isomorphism between non-redundant families is a renaming.\n",
    "\n",
    "**Proof:** Let $\\phi: \\mathcal{F} \\rightarrow \\mathcal{G}$ be an isomorphism between non-redundant families $\\mathcal{F}$ and $\\mathcal{G}$.\n",
    "\n",
    "Because $\\mathcal{F}$ is non-redundant, for every element $x$ in the universe of $\\mathcal{F}$, we can choose from $\\mathcal{F}$ a pair of sets $A, A \\cup \\{x\\}$ that differ only by whether they include $x$.\n",
    "\n",
    "Let's look at $\\phi(A)$ and $\\phi(A \\cup \\{x\\})$.\n",
    "\n",
    "Because $\\phi$ preserves unions, $\\phi(A) \\cup \\phi(A \\cup \\{x\\}) = \\phi(A \\cup (A \\cup \\{x\\}) = \\phi(A \\cup \\{x\\})$, so $\\phi(A) \\subseteq \\phi(A \\cup \\{x\\})$. Because $\\phi$ is 1-1, the containment is strict: $\\phi(A) \\subset \\phi(A \\cup \\{x\\})$. That means $\\phi(A \\cup \\{x\\})$ contains some additional element or elements that $\\phi(A)$ doesn't. Let's call that additional stuff $\\Phi(x)$.\n",
    "\n",
    "If we can show that, for all $x$ in the universe of $\\mathcal{F}$,\n",
    "1. $\\Phi(x)$ appears in $\\phi(B)$ exactly when $x$ appears in $B$\n",
    "2. $\\Phi(x) = \\Phi(y)$ only when $x = y$\n",
    "3. $\\Phi(x)$ has just one element in it\n",
    "4. $\\Phi$ is onto with respect to the universe of $\\mathcal{G}$\n",
    "\n",
    "...then $\\Phi$ is our bijection between the universe of $\\mathcal{F}$ and the universe of $\\mathcal{G}$, and $\\phi$ is a renaming.\n",
    "\n",
    "1. $\\Phi(x)$ appears in $\\phi(B)$ when and only when $x$ appears in $B$\n",
    "\n",
    "If $x$ is in $B$, then, using the $A$ we picked to define $\\Phi$, $B \\cup A = B \\cup (A \\cup \\{x\\})$. But then $\\phi(B) \\cup \\phi(A \\cup \\{x\\})$, which contains everything in $\\Phi(x)$, equals $\\phi(B) \\cup \\phi(A)$. Since nothing in $\\Phi(x)$ is contained in $\\phi(A)$, that means that everything in $\\Phi(x)$ must be contained in $\\phi(B)$.\n",
    "\n",
    "Similarly, if everything in $\\Phi(x)$ appears in $\\phi(B)$, then $\\phi(B) \\cup \\phi(A) = \\phi(B) \\cup \\phi(A \\cup \\{x\\})$, which means that $\\phi(B \\cup A) = \\phi(B \\cup (A \\cup \\{x\\})$. Since $\\phi$ is 1-1, $B \\cup A = B \\cup (A \\cup \\{x\\})$, which since $x$ is not in $A$, means that $x$ must be in $B$.\n",
    "\n",
    "2. $\\Phi(x) = \\Phi(y)$ only when $x = y$\n",
    "\n",
    "If $\\Phi(x) = \\Phi(y)$, then by 1., $x$ would appear in $B \\in \\mathcal{F}$ when and only when $y$ does. Since $\\mathcal{F}$ is non-redundant, it's separating, so $x = y$.\n",
    "\n",
    "3. $\\Phi(x)$ has just one element in it\n",
    "\n",
    "Since $\\mathcal{G}$ is non-redundant, for every element in the universe of $\\mathcal{G}$, we can find a pair of sets $C, D$ that differ only by that element. So in the same way we formed $\\Phi$ from $\\phi$, we can form $\\Phi'$ from $\\phi^{-1}$. By 1. above, whenever $x$ appears in $B$, for each element $x'$ of $\\Phi(x)$, $\\Phi'(x')$ appears in $B$. Since $\\mathcal{F}$ is separating, that can only be true if $\\Phi'(x') = x$ for each $x'$ - so by 2., there's in fact exactly one distinct $x'$ in $\\Phi(x)$.\n",
    "\n",
    "4. $\\Phi$ covers the universe of $\\mathcal{G}$\n",
    "\n",
    "Given an $x'$ in the universe of $\\mathcal{G}$, $\\Phi'(x') = x$ is an element in the universe of $\\mathcal{F}$ with $\\Phi(x) = x'$.\n",
    "\n",
    "So $\\phi$ is just a renaming.\n"
   ]
  },
  {
   "cell_type": "markdown",
   "metadata": {},
   "source": [
    "---\n",
    "<a id=\"examples\"></a>\n",
    "## Examples of union-closed families ##\n",
    "\n",
    "[top](#toc)"
   ]
  },
  {
   "cell_type": "markdown",
   "metadata": {},
   "source": [
    "### m = 1 (complete) ###\n",
    "\n",
    "- $C_1$ : The one-element chain/anti-chain\n"
   ]
  },
  {
   "cell_type": "markdown",
   "metadata": {},
   "source": [
    "### m = 2 (complete) ###\n",
    "\n",
    "| Description | Representation | Basis | Element Frequencies | Set Sizes |\n",
    "| ---------------------- | ----------- | ------ | ----------- | ----------- |\n",
    "| $C_2 = C_1 ^\\frown C_1$ | (0, 1, 12) | 1,12 | [21 of 3] | 1/1/1 |\n",
    "| $\\mathcal{P}_2 = C_1 \\times C_1 = C_1 \\overline{\\times} C_1$ | (0, 1, 2, 12) | 1,2 | [22 of 4] | 1/2/1 |"
   ]
  },
  {
   "cell_type": "markdown",
   "metadata": {},
   "source": [
    "### m = 3 (complete; 9 distinct structures) ###\n",
    "\n",
    "| Description | Representation | Basis | Element Frequencies | Set Sizes |\n",
    "| ----------- | ----------- | ------ | ----------- | ----------- |\n",
    "| $\\mathcal{P}_3 = C_1 \\times C_1 \\times C_1$ | (0, 1, 2, 3, 12, 23, 31, 123) | 1,2,3 | [444 of 8] | 1/3/3/1 |\n",
    "| $\\overline{\\mathcal{P}}_3 = C_1 \\overline{\\times} C_1 \\overline{\\times} C_1$ | (0, 12, 23, 31, 123) | 12,23,31 | [333 of 5] | 1/0/3/1 |\n",
    "| $C_3$ | (0, 1, 12, 123) | 1,12,123 | [321 of 4] | 1/1/1/1 |\n",
    "| $C_2 \\times C_1$ | (0, 1, 2, 12, 13, 123) | 1,2,13 | [432 of 6] | 1/2/2/1 |\n",
    "| $C_2 \\overline{\\times} C_1$ | (0, 1, 12, 23, 123) | 1,12,23 | [332 of 5] | 1/1/2/1 |\n",
    "| $\\mathcal{P}_2 \\overline{\\times} C_1$ | (0, 1, 12, 23, 31, 123) | 1,12,23,31 | [433 of 6] | 1/1/3/1 |\n",
    "| $C_1 ^\\frown \\mathcal{P}_2$ | (0, 1, 12, 13, 123) | 1,12,13 | [422 of 5] | 1/1/2/1 |\n",
    "| $\\mathcal{P}_2 ^\\frown C_1$ | (0, 1, 2, 12, 123) | 1,2,123 | [331 of 5] | 1/2/1/1 |\n",
    "| ??? | (0, 1, 2, 12, 23, 31, 123) | 1,2,23,31 | [443 of 7] | 1/2/3/1 |\n",
    "\n",
    "Useful example for getting definitions right: would like (0, 12, 23, 123) to count as $\\mathcal{P}_2$.\n",
    "\n",
    "Defining $\\overline{\\times}$ is a little tricky - it's not solid right now. It doesn't seem to be associative which has me worried. I think the trick is that I want to take $\\overline{\\times}$ over an arbitrary number of arguments all at once; it's not a binary operator. Whereas there's no difference between taking products two at a time or all at once. That probably means we want a different symbol.\n",
    "\n",
    "$C_2 \\overline{\\times} C_1$ and $C_1 ^\\frown \\mathcal{P}_2$ show that the count of sets of different sizes alone isn't enough to distinguish between families with distinct structures. As of m=3, a chart of element frequencies is still sufficient to do that, though.\n",
    "\n"
   ]
  },
  {
   "cell_type": "markdown",
   "metadata": {},
   "source": [
    "### m = 4 ###\n",
    "\n",
    "21 sets formed from smaller ones by concatenation\n",
    "\n",
    "| Description | Representation | Basis | Element Frequencies | Set Sizes |\n",
    "| ----------- | ----------- | ------ | ----------- | ----------- |\n",
    "| $C_4$ | (0, 1, 12, 123, 1234) | 1,12,123,1234 | [4321 of 5] | 1/1/1/1/1 |\n",
    "| $C_2 ^\\frown \\mathcal{P}_2$ | (0, 1, 12, 123, 124, 1234) | 1,12,123,124 | [5422 of 6] | 1/1/1/2/1 |\n",
    "| $\\mathcal{P}_2 ^\\frown C_2$ | (0, 1, 2, 12, 123, 1234) | 1,2,123,1234 | [4421 of 6] | 1/2/1/1/1 |\n",
    "| \n"
   ]
  },
  {
   "cell_type": "markdown",
   "metadata": {},
   "source": [
    "---\n",
    "<a id=counterexample></a>\n",
    "## Properties of a minimal counterexample ##\n",
    "\n",
    "[Top](#toc)\n",
    "\n",
    "### 1 Has $\\emptyset$ ###\n",
    "(Proof: Poonen 1992 Lemma 1)\n",
    "\n",
    "### 2a Is separating ###\n",
    "\n",
    "(Poonen 1992 Lemma 2)\n",
    "\n",
    "### 2b Has at least as many basis sets as elements in its universe ###\n",
    "If there are fewer basis sets than elements, then either there are elements aren't in the family at all and we can pick a smaller universe without changing the family, or there are elements that aren't separating.\n",
    "\n",
    "### 3 Is not reducible ###\n",
    "If for union-closed family $\\mathcal{F} = \\bigcup F_{i}$ there's another family $\\mathcal{G} = \\bigcup G_{i}$ with the same number of sets, and each $G_{i} \\subseteq F_{i}$, and not every $G_{i} = F_{i}$, then we say $\\mathcal{F}$ is **reducible** to $\\mathcal{G}$. A minimal counterexample is irreducible.\n",
    "\n",
    "It's not immediately clear what permits a reduction to happen. Characterizing that might be useful. This is the direction the Acquaah paper goes in, but there are no results in there that seem both non-obvious and correct to me.\n",
    "\n",
    "### 4 Is not a concatenation of smaller families ###\n",
    "\n",
    "### 5 Is not a product of smaller families ###\n",
    "\n",
    "### 6 Has no redundant elements ###"
   ]
  },
  {
   "cell_type": "markdown",
   "metadata": {},
   "source": [
    "## Families that have an abundant element ##\n",
    "\n",
    "The flip side of many of the necessary properties for a counterexample are characterizations of families that definitely have an abundant element.\n",
    "\n",
    "!!!!\n",
    "\n",
    "\n"
   ]
  },
  {
   "cell_type": "markdown",
   "metadata": {},
   "source": [
    "---\n",
    "<a id=\"conjectures\"></a>\n",
    "<h2>Conjectures</h2>\n",
    "\n",
    "[Top](#toc)"
   ]
  },
  {
   "cell_type": "markdown",
   "metadata": {},
   "source": [
    "### Open ###\n"
   ]
  },
  {
   "cell_type": "markdown",
   "metadata": {},
   "source": [
    "* (Acquaah, sort of) Every $\\mathcal{F}$ of size $n$ either has $\\leq \\lceil \\log_2(n) \\rceil$ elements in its universe or is reducible to a family $\\mathcal{G}$ that does. (This is a point in the Acquaah paper that I'm not convinced of but didn't find a counterexample for.)\n",
    "* (Acquaah) A set of the smallest size that overlaps with every non-null set of $\\mathcal{F}$ contains an abundant element.\n",
    "  * This is a strengthening of FUNC and implies FUNC, so we're probably looking for a counterexample.\n",
    "* (me) Call a family with $n$ sets over $m$ elements *bottom-heavy* if it has more sets of size $\\lt m/2$ than sets of size $\\gt m/2$. (It's \"bottom-heavy\" if you think of the family as living inside the Hasse diagram of the power set.) The only bottom-heavy families are a concatenation of families.\n",
    "  * This would get us very close to FUNC, since a non-bottom-heavy family means the average frequency of an element is $\\geq n/2$, so I'd search for a counter-example before a proof.\n",
    "* (me) Independent families have an abundant element.\n",
    "  * Not sure this is sufficiently weaker than FUNC to be a foothold. Probably depends on how straightforward it is to relate all families to independent families.\n",
    "* (Poonen) The most abundant element in a separating family $\\mathcal{F}$ has frequency exactly $n/2$ only when the family is a power set. (Poonen 1992)\n",
    "* \"S-Frankl conjecture\": Let $T(\\mathcal{F})$ be the size of the smallest non-empty set in $\\mathcal{F}$. There are at least $T(\\mathcal{F})$ abundant elements in $\\mathcal{F}$. (Cui & Hu 2017)\n",
    "* (me) $b = \\lvert \\operatorname{basis}(\\mathcal{F}) \\rvert$, the number of sets in the basis of $\\mathcal{F}$, has a maximum related to $m$, the number of elements in $\\mathcal{F}$. Specifically $b \\leq \\binom{m}{m/2}$ if m is even and $b \\leq \\binom{m}{(m-1)/2}$ if m is odd.\n",
    "  * *Where this hunch comes from:* There has to be some maximum based on $m$, since $m$ determines the total number of possible sets. Look at how the basis changes as you build the family by removing elements from the power set of $m$. When you remove small basis sets, you often have to replace them with two sets, and you can more often remove large basis elements without replacing them with anything. So maybe the maximum basis size coincides with the wide middle of the power set.\n",
    "* (me) Part 1: In a non-redundant family, every element $x$ in the universe of $\\mathcal{F}$ has some set pair $A , A \\cup \\{x\\}$ where the only difference between the two sets is the addition of $x$ (**proven**). Part 2: The members of the smallest $A$ where this happens (taken over all elements) are abundant.\n",
    "* (me) An isomorphism between non-redundant families is just a relabeling of the elements in the universe. (If not I should be on the hunt for something stronger still than redundancy.)\n",
    "* (me) Given a non-redundant family, a chart of element frequencies is enough to uniquely determine the family. (I would be surprised if this was true.)"
   ]
  },
  {
   "cell_type": "markdown",
   "metadata": {},
   "source": [
    "### Fuzzily defined ###"
   ]
  },
  {
   "cell_type": "markdown",
   "metadata": {},
   "source": [
    "* (me) A family that isn't independent has a related smaller/simpler family, where the existence of an abundant element in the simplified family can be used to find an abundant element in the original."
   ]
  },
  {
   "cell_type": "markdown",
   "metadata": {},
   "source": [
    "### Plain Old Questions ###"
   ]
  },
  {
   "cell_type": "markdown",
   "metadata": {},
   "source": [
    "* (me) How many possible families of size n or universe m are there? What number sequences are related?"
   ]
  },
  {
   "cell_type": "markdown",
   "metadata": {},
   "source": [
    "---\n",
    "<a id=results></a>\n",
    "## Results (mine and others') ##\n",
    "[Top](#toc)"
   ]
  },
  {
   "cell_type": "markdown",
   "metadata": {},
   "source": [
    "* (me) A family $\\mathcal{F}$ is non-redundant if, for every element $x$ in its universe, there are two sets in $\\mathcal{F}$ that differ only by the addition of $\\{x\\}$.\n",
    "* (me) An isomorphism between non-redundant families is a renaming of its elements. "
   ]
  },
  {
   "cell_type": "markdown",
   "metadata": {},
   "source": [
    "---\n",
    "<a id=\"todo\"></a>\n",
    "<h2>To-do</h2>\n",
    "\n",
    "[Top](#toc)\n"
   ]
  },
  {
   "cell_type": "markdown",
   "metadata": {},
   "source": [
    "\n",
    "* Fix TOC links\n",
    "* Define concatenation and chains, product, mirror product"
   ]
  },
  {
   "cell_type": "code",
   "execution_count": null,
   "metadata": {},
   "outputs": [],
   "source": []
  }
 ],
 "metadata": {
  "kernelspec": {
   "display_name": "Python 3",
   "language": "python",
   "name": "python3"
  },
  "language_info": {
   "codemirror_mode": {
    "name": "ipython",
    "version": 3
   },
   "file_extension": ".py",
   "mimetype": "text/x-python",
   "name": "python",
   "nbconvert_exporter": "python",
   "pygments_lexer": "ipython3",
   "version": "3.7.1"
  }
 },
 "nbformat": 4,
 "nbformat_minor": 2
}
